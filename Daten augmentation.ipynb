{
 "cells": [
  {
   "cell_type": "code",
   "execution_count": 3,
   "metadata": {},
   "outputs": [],
   "source": [
    "from tensorflow.keras.preprocessing.image import ImageDataGenerator\n",
    "from tensorflow.keras.utils import array_to_img, img_to_array, load_img\n",
    "import os\n",
    "import PIL"
   ]
  },
  {
   "cell_type": "code",
   "execution_count": 6,
   "metadata": {},
   "outputs": [],
   "source": [
    "datagen = ImageDataGenerator(\n",
    "        rotation_range = 8,\n",
    "        shear_range = 0.2,\n",
    "        zoom_range = 0.2,\n",
    "        horizontal_flip = True,\n",
    "        vertical_flip = True,\n",
    "        brightness_range = (0.7, 1.3),\n",
    "        fill_mode='nearest')\n",
    " "
   ]
  },
  {
   "cell_type": "code",
   "execution_count": 18,
   "metadata": {},
   "outputs": [],
   "source": [
    "from PIL import Image\n",
    "\n",
    "image_directory = r'C:\\Projekt\\train1\\train1'\n",
    "save_dir = r'C:\\Projekt\\preview'\n",
    "for filename in os.listdir(image_directory):\n",
    "    if filename.endswith('.jpg'):  \n",
    "        label = filename.split('_')[1]  \n",
    "        img_path = os.path.join(image_directory, filename)\n",
    "\n",
    "        img = load_img(img_path)\n",
    "        img = img.resize((32, 32), Image.NEAREST)\n",
    "        \n",
    "        x = img_to_array(img)\n",
    "        x = x.reshape((1,) + x.shape)\n",
    "    \n",
    "        i = 0\n",
    "        for batch in datagen.flow(x, batch_size=1,\n",
    "                                  save_to_dir= save_dir,\n",
    "                                  save_prefix= label,  \n",
    "                                  save_format='jpeg',\n",
    "                                  ):\n",
    "            i += 1\n",
    "            if i > 12:  \n",
    "                break\n"
   ]
  }
 ],
 "metadata": {
  "kernelspec": {
   "display_name": "Python 3",
   "language": "python",
   "name": "python3"
  },
  "language_info": {
   "codemirror_mode": {
    "name": "ipython",
    "version": 3
   },
   "file_extension": ".py",
   "mimetype": "text/x-python",
   "name": "python",
   "nbconvert_exporter": "python",
   "pygments_lexer": "ipython3",
   "version": "3.12.0"
  }
 },
 "nbformat": 4,
 "nbformat_minor": 2
}
